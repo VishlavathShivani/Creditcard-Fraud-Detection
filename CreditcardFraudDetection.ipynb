{
 "cells": [
  {
   "cell_type": "code",
   "execution_count": 1,
   "id": "0331c98a",
   "metadata": {},
   "outputs": [],
   "source": [
    "import numpy as np\n",
    "import pandas as pd\n",
    "from sklearn.model_selection import train_test_split\n",
    "from sklearn.linear_model import LogisticRegression\n",
    "from sklearn.metrics import accuracy_score\n",
    "from sklearn.metrics import accuracy_score, confusion_matrix, classification_report\n",
    "import scikitplot as skplt"
   ]
  },
  {
   "cell_type": "code",
   "execution_count": 76,
   "id": "8f2cfe4e",
   "metadata": {
    "scrolled": false
   },
   "outputs": [
    {
     "name": "stdout",
     "output_type": "stream",
     "text": [
      "Collecting scikit-plot\n",
      "  Using cached scikit_plot-0.3.7-py3-none-any.whl (33 kB)\n",
      "Requirement already satisfied: joblib>=0.10 in c:\\users\\shivani\\anaconda3\\lib\\site-packages (from scikit-plot) (1.1.0)\n",
      "Requirement already satisfied: scikit-learn>=0.18 in c:\\users\\shivani\\anaconda3\\lib\\site-packages (from scikit-plot) (0.24.2)\n",
      "Requirement already satisfied: matplotlib>=1.4.0 in c:\\users\\shivani\\anaconda3\\lib\\site-packages (from scikit-plot) (3.4.3)\n",
      "Requirement already satisfied: scipy>=0.9 in c:\\users\\shivani\\anaconda3\\lib\\site-packages (from scikit-plot) (1.7.1)\n",
      "Requirement already satisfied: pillow>=6.2.0 in c:\\users\\shivani\\anaconda3\\lib\\site-packages (from matplotlib>=1.4.0->scikit-plot) (8.4.0)\n",
      "Requirement already satisfied: cycler>=0.10 in c:\\users\\shivani\\anaconda3\\lib\\site-packages (from matplotlib>=1.4.0->scikit-plot) (0.10.0)\n",
      "Requirement already satisfied: python-dateutil>=2.7 in c:\\users\\shivani\\anaconda3\\lib\\site-packages (from matplotlib>=1.4.0->scikit-plot) (2.8.2)\n",
      "Requirement already satisfied: kiwisolver>=1.0.1 in c:\\users\\shivani\\anaconda3\\lib\\site-packages (from matplotlib>=1.4.0->scikit-plot) (1.3.1)Note: you may need to restart the kernel to use updated packages.\n",
      "\n",
      "Requirement already satisfied: pyparsing>=2.2.1 in c:\\users\\shivani\\anaconda3\\lib\\site-packages (from matplotlib>=1.4.0->scikit-plot) (3.0.4)\n",
      "Requirement already satisfied: numpy>=1.16 in c:\\users\\shivani\\anaconda3\\lib\\site-packages (from matplotlib>=1.4.0->scikit-plot) (1.20.3)\n",
      "Requirement already satisfied: six in c:\\users\\shivani\\anaconda3\\lib\\site-packages (from cycler>=0.10->matplotlib>=1.4.0->scikit-plot) (1.16.0)\n",
      "Requirement already satisfied: threadpoolctl>=2.0.0 in c:\\users\\shivani\\anaconda3\\lib\\site-packages (from scikit-learn>=0.18->scikit-plot) (2.2.0)\n",
      "Installing collected packages: scikit-plot\n",
      "Successfully installed scikit-plot-0.3.7\n"
     ]
    }
   ],
   "source": [
    "pip install scikit-plot"
   ]
  },
  {
   "cell_type": "code",
   "execution_count": 2,
   "id": "bd4be9c4",
   "metadata": {},
   "outputs": [],
   "source": [
    "# loading the dataset to a Pandas DataFrame\n",
    "credit_card_data = pd.read_csv(r\"C:/Users/Shivani/Downloads/creditcard.csv\")"
   ]
  },
  {
   "cell_type": "code",
   "execution_count": 3,
   "id": "e89b6551",
   "metadata": {
    "scrolled": false
   },
   "outputs": [
    {
     "data": {
      "text/html": [
       "<div>\n",
       "<style scoped>\n",
       "    .dataframe tbody tr th:only-of-type {\n",
       "        vertical-align: middle;\n",
       "    }\n",
       "\n",
       "    .dataframe tbody tr th {\n",
       "        vertical-align: top;\n",
       "    }\n",
       "\n",
       "    .dataframe thead th {\n",
       "        text-align: right;\n",
       "    }\n",
       "</style>\n",
       "<table border=\"1\" class=\"dataframe\">\n",
       "  <thead>\n",
       "    <tr style=\"text-align: right;\">\n",
       "      <th></th>\n",
       "      <th>Time</th>\n",
       "      <th>V1</th>\n",
       "      <th>V2</th>\n",
       "      <th>V3</th>\n",
       "      <th>V4</th>\n",
       "      <th>V5</th>\n",
       "      <th>V6</th>\n",
       "      <th>V7</th>\n",
       "      <th>V8</th>\n",
       "      <th>V9</th>\n",
       "      <th>...</th>\n",
       "      <th>V21</th>\n",
       "      <th>V22</th>\n",
       "      <th>V23</th>\n",
       "      <th>V24</th>\n",
       "      <th>V25</th>\n",
       "      <th>V26</th>\n",
       "      <th>V27</th>\n",
       "      <th>V28</th>\n",
       "      <th>Amount</th>\n",
       "      <th>Class</th>\n",
       "    </tr>\n",
       "  </thead>\n",
       "  <tbody>\n",
       "    <tr>\n",
       "      <th>0</th>\n",
       "      <td>0.0</td>\n",
       "      <td>-1.359807</td>\n",
       "      <td>-0.072781</td>\n",
       "      <td>2.536347</td>\n",
       "      <td>1.378155</td>\n",
       "      <td>-0.338321</td>\n",
       "      <td>0.462388</td>\n",
       "      <td>0.239599</td>\n",
       "      <td>0.098698</td>\n",
       "      <td>0.363787</td>\n",
       "      <td>...</td>\n",
       "      <td>-0.018307</td>\n",
       "      <td>0.277838</td>\n",
       "      <td>-0.110474</td>\n",
       "      <td>0.066928</td>\n",
       "      <td>0.128539</td>\n",
       "      <td>-0.189115</td>\n",
       "      <td>0.133558</td>\n",
       "      <td>-0.021053</td>\n",
       "      <td>149.62</td>\n",
       "      <td>0</td>\n",
       "    </tr>\n",
       "    <tr>\n",
       "      <th>1</th>\n",
       "      <td>0.0</td>\n",
       "      <td>1.191857</td>\n",
       "      <td>0.266151</td>\n",
       "      <td>0.166480</td>\n",
       "      <td>0.448154</td>\n",
       "      <td>0.060018</td>\n",
       "      <td>-0.082361</td>\n",
       "      <td>-0.078803</td>\n",
       "      <td>0.085102</td>\n",
       "      <td>-0.255425</td>\n",
       "      <td>...</td>\n",
       "      <td>-0.225775</td>\n",
       "      <td>-0.638672</td>\n",
       "      <td>0.101288</td>\n",
       "      <td>-0.339846</td>\n",
       "      <td>0.167170</td>\n",
       "      <td>0.125895</td>\n",
       "      <td>-0.008983</td>\n",
       "      <td>0.014724</td>\n",
       "      <td>2.69</td>\n",
       "      <td>0</td>\n",
       "    </tr>\n",
       "    <tr>\n",
       "      <th>2</th>\n",
       "      <td>1.0</td>\n",
       "      <td>-1.358354</td>\n",
       "      <td>-1.340163</td>\n",
       "      <td>1.773209</td>\n",
       "      <td>0.379780</td>\n",
       "      <td>-0.503198</td>\n",
       "      <td>1.800499</td>\n",
       "      <td>0.791461</td>\n",
       "      <td>0.247676</td>\n",
       "      <td>-1.514654</td>\n",
       "      <td>...</td>\n",
       "      <td>0.247998</td>\n",
       "      <td>0.771679</td>\n",
       "      <td>0.909412</td>\n",
       "      <td>-0.689281</td>\n",
       "      <td>-0.327642</td>\n",
       "      <td>-0.139097</td>\n",
       "      <td>-0.055353</td>\n",
       "      <td>-0.059752</td>\n",
       "      <td>378.66</td>\n",
       "      <td>0</td>\n",
       "    </tr>\n",
       "    <tr>\n",
       "      <th>3</th>\n",
       "      <td>1.0</td>\n",
       "      <td>-0.966272</td>\n",
       "      <td>-0.185226</td>\n",
       "      <td>1.792993</td>\n",
       "      <td>-0.863291</td>\n",
       "      <td>-0.010309</td>\n",
       "      <td>1.247203</td>\n",
       "      <td>0.237609</td>\n",
       "      <td>0.377436</td>\n",
       "      <td>-1.387024</td>\n",
       "      <td>...</td>\n",
       "      <td>-0.108300</td>\n",
       "      <td>0.005274</td>\n",
       "      <td>-0.190321</td>\n",
       "      <td>-1.175575</td>\n",
       "      <td>0.647376</td>\n",
       "      <td>-0.221929</td>\n",
       "      <td>0.062723</td>\n",
       "      <td>0.061458</td>\n",
       "      <td>123.50</td>\n",
       "      <td>0</td>\n",
       "    </tr>\n",
       "    <tr>\n",
       "      <th>4</th>\n",
       "      <td>2.0</td>\n",
       "      <td>-1.158233</td>\n",
       "      <td>0.877737</td>\n",
       "      <td>1.548718</td>\n",
       "      <td>0.403034</td>\n",
       "      <td>-0.407193</td>\n",
       "      <td>0.095921</td>\n",
       "      <td>0.592941</td>\n",
       "      <td>-0.270533</td>\n",
       "      <td>0.817739</td>\n",
       "      <td>...</td>\n",
       "      <td>-0.009431</td>\n",
       "      <td>0.798278</td>\n",
       "      <td>-0.137458</td>\n",
       "      <td>0.141267</td>\n",
       "      <td>-0.206010</td>\n",
       "      <td>0.502292</td>\n",
       "      <td>0.219422</td>\n",
       "      <td>0.215153</td>\n",
       "      <td>69.99</td>\n",
       "      <td>0</td>\n",
       "    </tr>\n",
       "  </tbody>\n",
       "</table>\n",
       "<p>5 rows × 31 columns</p>\n",
       "</div>"
      ],
      "text/plain": [
       "   Time        V1        V2        V3        V4        V5        V6        V7  \\\n",
       "0   0.0 -1.359807 -0.072781  2.536347  1.378155 -0.338321  0.462388  0.239599   \n",
       "1   0.0  1.191857  0.266151  0.166480  0.448154  0.060018 -0.082361 -0.078803   \n",
       "2   1.0 -1.358354 -1.340163  1.773209  0.379780 -0.503198  1.800499  0.791461   \n",
       "3   1.0 -0.966272 -0.185226  1.792993 -0.863291 -0.010309  1.247203  0.237609   \n",
       "4   2.0 -1.158233  0.877737  1.548718  0.403034 -0.407193  0.095921  0.592941   \n",
       "\n",
       "         V8        V9  ...       V21       V22       V23       V24       V25  \\\n",
       "0  0.098698  0.363787  ... -0.018307  0.277838 -0.110474  0.066928  0.128539   \n",
       "1  0.085102 -0.255425  ... -0.225775 -0.638672  0.101288 -0.339846  0.167170   \n",
       "2  0.247676 -1.514654  ...  0.247998  0.771679  0.909412 -0.689281 -0.327642   \n",
       "3  0.377436 -1.387024  ... -0.108300  0.005274 -0.190321 -1.175575  0.647376   \n",
       "4 -0.270533  0.817739  ... -0.009431  0.798278 -0.137458  0.141267 -0.206010   \n",
       "\n",
       "        V26       V27       V28  Amount  Class  \n",
       "0 -0.189115  0.133558 -0.021053  149.62      0  \n",
       "1  0.125895 -0.008983  0.014724    2.69      0  \n",
       "2 -0.139097 -0.055353 -0.059752  378.66      0  \n",
       "3 -0.221929  0.062723  0.061458  123.50      0  \n",
       "4  0.502292  0.219422  0.215153   69.99      0  \n",
       "\n",
       "[5 rows x 31 columns]"
      ]
     },
     "execution_count": 3,
     "metadata": {},
     "output_type": "execute_result"
    }
   ],
   "source": [
    "# first 5 rows of the dataset\n",
    "credit_card_data.head()"
   ]
  },
  {
   "cell_type": "code",
   "execution_count": 4,
   "id": "620c7232",
   "metadata": {},
   "outputs": [
    {
     "data": {
      "text/plain": [
       "Time      0\n",
       "V1        0\n",
       "V2        0\n",
       "V3        0\n",
       "V4        0\n",
       "V5        0\n",
       "V6        0\n",
       "V7        0\n",
       "V8        0\n",
       "V9        0\n",
       "V10       0\n",
       "V11       0\n",
       "V12       0\n",
       "V13       0\n",
       "V14       0\n",
       "V15       0\n",
       "V16       0\n",
       "V17       0\n",
       "V18       0\n",
       "V19       0\n",
       "V20       0\n",
       "V21       0\n",
       "V22       0\n",
       "V23       0\n",
       "V24       0\n",
       "V25       0\n",
       "V26       0\n",
       "V27       0\n",
       "V28       0\n",
       "Amount    0\n",
       "Class     0\n",
       "dtype: int64"
      ]
     },
     "execution_count": 4,
     "metadata": {},
     "output_type": "execute_result"
    }
   ],
   "source": [
    "# checking the number of missing values in each column\n",
    "credit_card_data.isnull().sum()"
   ]
  },
  {
   "cell_type": "code",
   "execution_count": 5,
   "id": "94f1b6da",
   "metadata": {},
   "outputs": [
    {
     "data": {
      "text/plain": [
       "0    284315\n",
       "1       492\n",
       "Name: Class, dtype: int64"
      ]
     },
     "execution_count": 5,
     "metadata": {},
     "output_type": "execute_result"
    }
   ],
   "source": [
    "# distribution of legit transactions & fraudulent transactions\n",
    "\n",
    "credit_card_data['Class'].value_counts()"
   ]
  },
  {
   "cell_type": "code",
   "execution_count": 6,
   "id": "140ac9bf",
   "metadata": {},
   "outputs": [],
   "source": [
    "#This Dataset is highly unblanced\n",
    "\n",
    "#0 --> Normal Transaction\n",
    "\n",
    "#1 --> fraudulent transaction"
   ]
  },
  {
   "cell_type": "code",
   "execution_count": 7,
   "id": "4cb9eee9",
   "metadata": {},
   "outputs": [],
   "source": [
    "# separating the data for analysis\n",
    "\n",
    "valid = credit_card_data[credit_card_data.Class == 0]\n",
    "fraud = credit_card_data[credit_card_data.Class == 1]"
   ]
  },
  {
   "cell_type": "code",
   "execution_count": 8,
   "id": "d8c5a3ad",
   "metadata": {},
   "outputs": [
    {
     "name": "stdout",
     "output_type": "stream",
     "text": [
      "(284315, 31)\n",
      "(492, 31)\n"
     ]
    }
   ],
   "source": [
    "print(valid.shape)\n",
    "print(fraud.shape)"
   ]
  },
  {
   "cell_type": "code",
   "execution_count": 9,
   "id": "70ead9e2",
   "metadata": {},
   "outputs": [
    {
     "data": {
      "text/plain": [
       "count    284315.000000\n",
       "mean         88.291022\n",
       "std         250.105092\n",
       "min           0.000000\n",
       "25%           5.650000\n",
       "50%          22.000000\n",
       "75%          77.050000\n",
       "max       25691.160000\n",
       "Name: Amount, dtype: float64"
      ]
     },
     "execution_count": 9,
     "metadata": {},
     "output_type": "execute_result"
    }
   ],
   "source": [
    "# statistical measures of the data\n",
    "valid.Amount.describe()"
   ]
  },
  {
   "cell_type": "code",
   "execution_count": 10,
   "id": "c870ab32",
   "metadata": {},
   "outputs": [
    {
     "data": {
      "text/plain": [
       "count     492.000000\n",
       "mean      122.211321\n",
       "std       256.683288\n",
       "min         0.000000\n",
       "25%         1.000000\n",
       "50%         9.250000\n",
       "75%       105.890000\n",
       "max      2125.870000\n",
       "Name: Amount, dtype: float64"
      ]
     },
     "execution_count": 10,
     "metadata": {},
     "output_type": "execute_result"
    }
   ],
   "source": [
    "fraud.Amount.describe()"
   ]
  },
  {
   "cell_type": "code",
   "execution_count": 11,
   "id": "518bb0e0",
   "metadata": {},
   "outputs": [],
   "source": [
    "#Building a sample dataset containing similar distribution of normal transactions and Fraudulent Transactions\n",
    "\n",
    "#Number of Fraudulent Transactions --> 492\n",
    "\n",
    "valid_sample=valid.sample(n=492)"
   ]
  },
  {
   "cell_type": "code",
   "execution_count": 12,
   "id": "c3d33d70",
   "metadata": {},
   "outputs": [],
   "source": [
    "#combining both dataframes\n",
    "new_dataset= pd.concat([valid_sample,fraud],axis=0)"
   ]
  },
  {
   "cell_type": "code",
   "execution_count": 13,
   "id": "cb5fb61f",
   "metadata": {},
   "outputs": [
    {
     "data": {
      "text/html": [
       "<div>\n",
       "<style scoped>\n",
       "    .dataframe tbody tr th:only-of-type {\n",
       "        vertical-align: middle;\n",
       "    }\n",
       "\n",
       "    .dataframe tbody tr th {\n",
       "        vertical-align: top;\n",
       "    }\n",
       "\n",
       "    .dataframe thead th {\n",
       "        text-align: right;\n",
       "    }\n",
       "</style>\n",
       "<table border=\"1\" class=\"dataframe\">\n",
       "  <thead>\n",
       "    <tr style=\"text-align: right;\">\n",
       "      <th></th>\n",
       "      <th>Time</th>\n",
       "      <th>V1</th>\n",
       "      <th>V2</th>\n",
       "      <th>V3</th>\n",
       "      <th>V4</th>\n",
       "      <th>V5</th>\n",
       "      <th>V6</th>\n",
       "      <th>V7</th>\n",
       "      <th>V8</th>\n",
       "      <th>V9</th>\n",
       "      <th>...</th>\n",
       "      <th>V21</th>\n",
       "      <th>V22</th>\n",
       "      <th>V23</th>\n",
       "      <th>V24</th>\n",
       "      <th>V25</th>\n",
       "      <th>V26</th>\n",
       "      <th>V27</th>\n",
       "      <th>V28</th>\n",
       "      <th>Amount</th>\n",
       "      <th>Class</th>\n",
       "    </tr>\n",
       "  </thead>\n",
       "  <tbody>\n",
       "    <tr>\n",
       "      <th>126070</th>\n",
       "      <td>77918.0</td>\n",
       "      <td>-0.275721</td>\n",
       "      <td>0.319724</td>\n",
       "      <td>1.906474</td>\n",
       "      <td>0.040642</td>\n",
       "      <td>-0.423895</td>\n",
       "      <td>0.334107</td>\n",
       "      <td>0.004601</td>\n",
       "      <td>0.260538</td>\n",
       "      <td>-1.474237</td>\n",
       "      <td>...</td>\n",
       "      <td>-0.468350</td>\n",
       "      <td>-0.737404</td>\n",
       "      <td>0.023673</td>\n",
       "      <td>0.166098</td>\n",
       "      <td>-0.182781</td>\n",
       "      <td>-0.568387</td>\n",
       "      <td>0.104621</td>\n",
       "      <td>0.026754</td>\n",
       "      <td>5.00</td>\n",
       "      <td>0</td>\n",
       "    </tr>\n",
       "    <tr>\n",
       "      <th>56233</th>\n",
       "      <td>47327.0</td>\n",
       "      <td>-1.015092</td>\n",
       "      <td>0.772264</td>\n",
       "      <td>1.626198</td>\n",
       "      <td>0.059031</td>\n",
       "      <td>0.576953</td>\n",
       "      <td>-0.916144</td>\n",
       "      <td>0.735748</td>\n",
       "      <td>-0.061660</td>\n",
       "      <td>-0.807258</td>\n",
       "      <td>...</td>\n",
       "      <td>0.188640</td>\n",
       "      <td>0.437999</td>\n",
       "      <td>-0.311102</td>\n",
       "      <td>0.549629</td>\n",
       "      <td>0.244163</td>\n",
       "      <td>-0.512462</td>\n",
       "      <td>-0.028978</td>\n",
       "      <td>0.107305</td>\n",
       "      <td>13.43</td>\n",
       "      <td>0</td>\n",
       "    </tr>\n",
       "    <tr>\n",
       "      <th>181854</th>\n",
       "      <td>125146.0</td>\n",
       "      <td>1.894628</td>\n",
       "      <td>-1.666562</td>\n",
       "      <td>-0.825716</td>\n",
       "      <td>-1.194279</td>\n",
       "      <td>-0.708951</td>\n",
       "      <td>1.013076</td>\n",
       "      <td>-1.324448</td>\n",
       "      <td>0.265279</td>\n",
       "      <td>0.187581</td>\n",
       "      <td>...</td>\n",
       "      <td>0.277407</td>\n",
       "      <td>0.454594</td>\n",
       "      <td>-0.018584</td>\n",
       "      <td>-0.677859</td>\n",
       "      <td>-0.324453</td>\n",
       "      <td>-0.239450</td>\n",
       "      <td>-0.001046</td>\n",
       "      <td>-0.024518</td>\n",
       "      <td>168.40</td>\n",
       "      <td>0</td>\n",
       "    </tr>\n",
       "    <tr>\n",
       "      <th>57764</th>\n",
       "      <td>48062.0</td>\n",
       "      <td>1.410097</td>\n",
       "      <td>-0.223516</td>\n",
       "      <td>-0.637684</td>\n",
       "      <td>-1.896355</td>\n",
       "      <td>0.229311</td>\n",
       "      <td>-0.221126</td>\n",
       "      <td>-0.037752</td>\n",
       "      <td>-0.082615</td>\n",
       "      <td>0.931381</td>\n",
       "      <td>...</td>\n",
       "      <td>-0.245115</td>\n",
       "      <td>-0.623377</td>\n",
       "      <td>-0.196071</td>\n",
       "      <td>-1.353733</td>\n",
       "      <td>0.644293</td>\n",
       "      <td>-0.035829</td>\n",
       "      <td>-0.013237</td>\n",
       "      <td>-0.013362</td>\n",
       "      <td>4.31</td>\n",
       "      <td>0</td>\n",
       "    </tr>\n",
       "    <tr>\n",
       "      <th>50779</th>\n",
       "      <td>44647.0</td>\n",
       "      <td>1.309106</td>\n",
       "      <td>0.133725</td>\n",
       "      <td>-0.371831</td>\n",
       "      <td>-0.306146</td>\n",
       "      <td>0.345669</td>\n",
       "      <td>-0.306975</td>\n",
       "      <td>0.270347</td>\n",
       "      <td>-0.149087</td>\n",
       "      <td>-0.377745</td>\n",
       "      <td>...</td>\n",
       "      <td>-0.449376</td>\n",
       "      <td>-1.372697</td>\n",
       "      <td>0.027461</td>\n",
       "      <td>-0.805961</td>\n",
       "      <td>0.248506</td>\n",
       "      <td>0.673002</td>\n",
       "      <td>-0.103797</td>\n",
       "      <td>-0.013726</td>\n",
       "      <td>23.38</td>\n",
       "      <td>0</td>\n",
       "    </tr>\n",
       "  </tbody>\n",
       "</table>\n",
       "<p>5 rows × 31 columns</p>\n",
       "</div>"
      ],
      "text/plain": [
       "            Time        V1        V2        V3        V4        V5        V6  \\\n",
       "126070   77918.0 -0.275721  0.319724  1.906474  0.040642 -0.423895  0.334107   \n",
       "56233    47327.0 -1.015092  0.772264  1.626198  0.059031  0.576953 -0.916144   \n",
       "181854  125146.0  1.894628 -1.666562 -0.825716 -1.194279 -0.708951  1.013076   \n",
       "57764    48062.0  1.410097 -0.223516 -0.637684 -1.896355  0.229311 -0.221126   \n",
       "50779    44647.0  1.309106  0.133725 -0.371831 -0.306146  0.345669 -0.306975   \n",
       "\n",
       "              V7        V8        V9  ...       V21       V22       V23  \\\n",
       "126070  0.004601  0.260538 -1.474237  ... -0.468350 -0.737404  0.023673   \n",
       "56233   0.735748 -0.061660 -0.807258  ...  0.188640  0.437999 -0.311102   \n",
       "181854 -1.324448  0.265279  0.187581  ...  0.277407  0.454594 -0.018584   \n",
       "57764  -0.037752 -0.082615  0.931381  ... -0.245115 -0.623377 -0.196071   \n",
       "50779   0.270347 -0.149087 -0.377745  ... -0.449376 -1.372697  0.027461   \n",
       "\n",
       "             V24       V25       V26       V27       V28  Amount  Class  \n",
       "126070  0.166098 -0.182781 -0.568387  0.104621  0.026754    5.00      0  \n",
       "56233   0.549629  0.244163 -0.512462 -0.028978  0.107305   13.43      0  \n",
       "181854 -0.677859 -0.324453 -0.239450 -0.001046 -0.024518  168.40      0  \n",
       "57764  -1.353733  0.644293 -0.035829 -0.013237 -0.013362    4.31      0  \n",
       "50779  -0.805961  0.248506  0.673002 -0.103797 -0.013726   23.38      0  \n",
       "\n",
       "[5 rows x 31 columns]"
      ]
     },
     "execution_count": 13,
     "metadata": {},
     "output_type": "execute_result"
    }
   ],
   "source": [
    "new_dataset.head()"
   ]
  },
  {
   "cell_type": "code",
   "execution_count": 14,
   "id": "e7ef4222",
   "metadata": {},
   "outputs": [
    {
     "data": {
      "text/plain": [
       "0    492\n",
       "1    492\n",
       "Name: Class, dtype: int64"
      ]
     },
     "execution_count": 14,
     "metadata": {},
     "output_type": "execute_result"
    }
   ],
   "source": [
    "new_dataset['Class'].value_counts()"
   ]
  },
  {
   "cell_type": "code",
   "execution_count": 15,
   "id": "dbb6a02f",
   "metadata": {},
   "outputs": [
    {
     "data": {
      "text/html": [
       "<div>\n",
       "<style scoped>\n",
       "    .dataframe tbody tr th:only-of-type {\n",
       "        vertical-align: middle;\n",
       "    }\n",
       "\n",
       "    .dataframe tbody tr th {\n",
       "        vertical-align: top;\n",
       "    }\n",
       "\n",
       "    .dataframe thead th {\n",
       "        text-align: right;\n",
       "    }\n",
       "</style>\n",
       "<table border=\"1\" class=\"dataframe\">\n",
       "  <thead>\n",
       "    <tr style=\"text-align: right;\">\n",
       "      <th></th>\n",
       "      <th>Time</th>\n",
       "      <th>V1</th>\n",
       "      <th>V2</th>\n",
       "      <th>V3</th>\n",
       "      <th>V4</th>\n",
       "      <th>V5</th>\n",
       "      <th>V6</th>\n",
       "      <th>V7</th>\n",
       "      <th>V8</th>\n",
       "      <th>V9</th>\n",
       "      <th>...</th>\n",
       "      <th>V20</th>\n",
       "      <th>V21</th>\n",
       "      <th>V22</th>\n",
       "      <th>V23</th>\n",
       "      <th>V24</th>\n",
       "      <th>V25</th>\n",
       "      <th>V26</th>\n",
       "      <th>V27</th>\n",
       "      <th>V28</th>\n",
       "      <th>Amount</th>\n",
       "    </tr>\n",
       "    <tr>\n",
       "      <th>Class</th>\n",
       "      <th></th>\n",
       "      <th></th>\n",
       "      <th></th>\n",
       "      <th></th>\n",
       "      <th></th>\n",
       "      <th></th>\n",
       "      <th></th>\n",
       "      <th></th>\n",
       "      <th></th>\n",
       "      <th></th>\n",
       "      <th></th>\n",
       "      <th></th>\n",
       "      <th></th>\n",
       "      <th></th>\n",
       "      <th></th>\n",
       "      <th></th>\n",
       "      <th></th>\n",
       "      <th></th>\n",
       "      <th></th>\n",
       "      <th></th>\n",
       "      <th></th>\n",
       "    </tr>\n",
       "  </thead>\n",
       "  <tbody>\n",
       "    <tr>\n",
       "      <th>0</th>\n",
       "      <td>95766.871951</td>\n",
       "      <td>-0.204714</td>\n",
       "      <td>-0.122429</td>\n",
       "      <td>0.009209</td>\n",
       "      <td>-0.190091</td>\n",
       "      <td>0.031835</td>\n",
       "      <td>-0.035406</td>\n",
       "      <td>0.071190</td>\n",
       "      <td>0.058503</td>\n",
       "      <td>-0.040215</td>\n",
       "      <td>...</td>\n",
       "      <td>0.007697</td>\n",
       "      <td>-0.053210</td>\n",
       "      <td>-0.009770</td>\n",
       "      <td>0.006487</td>\n",
       "      <td>0.001169</td>\n",
       "      <td>0.011211</td>\n",
       "      <td>-0.002271</td>\n",
       "      <td>0.005383</td>\n",
       "      <td>0.024764</td>\n",
       "      <td>103.480346</td>\n",
       "    </tr>\n",
       "    <tr>\n",
       "      <th>1</th>\n",
       "      <td>80746.806911</td>\n",
       "      <td>-4.771948</td>\n",
       "      <td>3.623778</td>\n",
       "      <td>-7.033281</td>\n",
       "      <td>4.542029</td>\n",
       "      <td>-3.151225</td>\n",
       "      <td>-1.397737</td>\n",
       "      <td>-5.568731</td>\n",
       "      <td>0.570636</td>\n",
       "      <td>-2.581123</td>\n",
       "      <td>...</td>\n",
       "      <td>0.372319</td>\n",
       "      <td>0.713588</td>\n",
       "      <td>0.014049</td>\n",
       "      <td>-0.040308</td>\n",
       "      <td>-0.105130</td>\n",
       "      <td>0.041449</td>\n",
       "      <td>0.051648</td>\n",
       "      <td>0.170575</td>\n",
       "      <td>0.075667</td>\n",
       "      <td>122.211321</td>\n",
       "    </tr>\n",
       "  </tbody>\n",
       "</table>\n",
       "<p>2 rows × 30 columns</p>\n",
       "</div>"
      ],
      "text/plain": [
       "               Time        V1        V2        V3        V4        V5  \\\n",
       "Class                                                                   \n",
       "0      95766.871951 -0.204714 -0.122429  0.009209 -0.190091  0.031835   \n",
       "1      80746.806911 -4.771948  3.623778 -7.033281  4.542029 -3.151225   \n",
       "\n",
       "             V6        V7        V8        V9  ...       V20       V21  \\\n",
       "Class                                          ...                       \n",
       "0     -0.035406  0.071190  0.058503 -0.040215  ...  0.007697 -0.053210   \n",
       "1     -1.397737 -5.568731  0.570636 -2.581123  ...  0.372319  0.713588   \n",
       "\n",
       "            V22       V23       V24       V25       V26       V27       V28  \\\n",
       "Class                                                                         \n",
       "0     -0.009770  0.006487  0.001169  0.011211 -0.002271  0.005383  0.024764   \n",
       "1      0.014049 -0.040308 -0.105130  0.041449  0.051648  0.170575  0.075667   \n",
       "\n",
       "           Amount  \n",
       "Class              \n",
       "0      103.480346  \n",
       "1      122.211321  \n",
       "\n",
       "[2 rows x 30 columns]"
      ]
     },
     "execution_count": 15,
     "metadata": {},
     "output_type": "execute_result"
    }
   ],
   "source": [
    "new_dataset.groupby('Class').mean()"
   ]
  },
  {
   "cell_type": "code",
   "execution_count": 16,
   "id": "9040e535",
   "metadata": {},
   "outputs": [],
   "source": [
    "X=new_dataset.drop(columns='Class',axis=1)\n",
    "Y=new_dataset['Class']"
   ]
  },
  {
   "cell_type": "code",
   "execution_count": 17,
   "id": "5a21648f",
   "metadata": {},
   "outputs": [
    {
     "name": "stdout",
     "output_type": "stream",
     "text": [
      "            Time        V1        V2        V3        V4        V5        V6  \\\n",
      "126070   77918.0 -0.275721  0.319724  1.906474  0.040642 -0.423895  0.334107   \n",
      "56233    47327.0 -1.015092  0.772264  1.626198  0.059031  0.576953 -0.916144   \n",
      "181854  125146.0  1.894628 -1.666562 -0.825716 -1.194279 -0.708951  1.013076   \n",
      "57764    48062.0  1.410097 -0.223516 -0.637684 -1.896355  0.229311 -0.221126   \n",
      "50779    44647.0  1.309106  0.133725 -0.371831 -0.306146  0.345669 -0.306975   \n",
      "...          ...       ...       ...       ...       ...       ...       ...   \n",
      "279863  169142.0 -1.927883  1.125653 -4.518331  1.749293 -1.566487 -2.010494   \n",
      "280143  169347.0  1.378559  1.289381 -5.004247  1.411850  0.442581 -1.326536   \n",
      "280149  169351.0 -0.676143  1.126366 -2.213700  0.468308 -1.120541 -0.003346   \n",
      "281144  169966.0 -3.113832  0.585864 -5.399730  1.817092 -0.840618 -2.943548   \n",
      "281674  170348.0  1.991976  0.158476 -2.583441  0.408670  1.151147 -0.096695   \n",
      "\n",
      "              V7        V8        V9  ...       V20       V21       V22  \\\n",
      "126070  0.004601  0.260538 -1.474237  ... -0.532213 -0.468350 -0.737404   \n",
      "56233   0.735748 -0.061660 -0.807258  ... -0.170980  0.188640  0.437999   \n",
      "181854 -1.324448  0.265279  0.187581  ...  0.398660  0.277407  0.454594   \n",
      "57764  -0.037752 -0.082615  0.931381  ...  0.004891 -0.245115 -0.623377   \n",
      "50779   0.270347 -0.149087 -0.377745  ...  0.061204 -0.449376 -1.372697   \n",
      "...          ...       ...       ...  ...       ...       ...       ...   \n",
      "279863 -0.882850  0.697211 -2.064945  ...  1.252967  0.778584 -0.319189   \n",
      "280143 -1.413170  0.248525 -1.127396  ...  0.226138  0.370612  0.028234   \n",
      "280149 -2.234739  1.210158 -0.652250  ...  0.247968  0.751826  0.834108   \n",
      "281144 -2.208002  1.058733 -1.632333  ...  0.306271  0.583276 -0.269209   \n",
      "281674  0.223050 -0.068384  0.577829  ... -0.017652 -0.164350 -0.295135   \n",
      "\n",
      "             V23       V24       V25       V26       V27       V28  Amount  \n",
      "126070  0.023673  0.166098 -0.182781 -0.568387  0.104621  0.026754    5.00  \n",
      "56233  -0.311102  0.549629  0.244163 -0.512462 -0.028978  0.107305   13.43  \n",
      "181854 -0.018584 -0.677859 -0.324453 -0.239450 -0.001046 -0.024518  168.40  \n",
      "57764  -0.196071 -1.353733  0.644293 -0.035829 -0.013237 -0.013362    4.31  \n",
      "50779   0.027461 -0.805961  0.248506  0.673002 -0.103797 -0.013726   23.38  \n",
      "...          ...       ...       ...       ...       ...       ...     ...  \n",
      "279863  0.639419 -0.294885  0.537503  0.788395  0.292680  0.147968  390.00  \n",
      "280143 -0.145640 -0.081049  0.521875  0.739467  0.389152  0.186637    0.76  \n",
      "280149  0.190944  0.032070 -0.739695  0.471111  0.385107  0.194361   77.89  \n",
      "281144 -0.456108 -0.183659 -0.328168  0.606116  0.884876 -0.253700  245.00  \n",
      "281674 -0.072173 -0.450261  0.313267 -0.289617  0.002988 -0.015309   42.53  \n",
      "\n",
      "[984 rows x 30 columns]\n"
     ]
    }
   ],
   "source": [
    "print(X)"
   ]
  },
  {
   "cell_type": "code",
   "execution_count": 18,
   "id": "0e5afa3c",
   "metadata": {},
   "outputs": [
    {
     "name": "stdout",
     "output_type": "stream",
     "text": [
      "126070    0\n",
      "56233     0\n",
      "181854    0\n",
      "57764     0\n",
      "50779     0\n",
      "         ..\n",
      "279863    1\n",
      "280143    1\n",
      "280149    1\n",
      "281144    1\n",
      "281674    1\n",
      "Name: Class, Length: 984, dtype: int64\n"
     ]
    }
   ],
   "source": [
    "print(Y)"
   ]
  },
  {
   "cell_type": "code",
   "execution_count": 19,
   "id": "75e19fa2",
   "metadata": {},
   "outputs": [],
   "source": [
    "#Split the data into Training data & Testing Data\n",
    "\n",
    "X_train,X_test,Y_train,Y_test = train_test_split(X,Y,test_size=0.2,stratify=Y, random_state=3)"
   ]
  },
  {
   "cell_type": "code",
   "execution_count": 20,
   "id": "93451d43",
   "metadata": {},
   "outputs": [
    {
     "name": "stdout",
     "output_type": "stream",
     "text": [
      "(984, 30) (787, 30) (197, 30)\n"
     ]
    }
   ],
   "source": [
    "print(X.shape, X_train.shape, X_test.shape)"
   ]
  },
  {
   "cell_type": "code",
   "execution_count": 21,
   "id": "0499f1a4",
   "metadata": {},
   "outputs": [
    {
     "name": "stdout",
     "output_type": "stream",
     "text": [
      "(984,) (787,) (197,)\n"
     ]
    }
   ],
   "source": [
    "print(Y.shape, Y_train.shape, Y_test.shape)"
   ]
  },
  {
   "cell_type": "code",
   "execution_count": 48,
   "id": "448afc42",
   "metadata": {},
   "outputs": [],
   "source": [
    "#Model Training\n",
    "\n",
    "#Logistic Regression\n",
    "\n",
    "model=LogisticRegression(solver='lbfgs', max_iter=120)"
   ]
  },
  {
   "cell_type": "code",
   "execution_count": 49,
   "id": "d1762796",
   "metadata": {},
   "outputs": [
    {
     "data": {
      "text/plain": [
       "LogisticRegression(max_iter=120)"
      ]
     },
     "execution_count": 49,
     "metadata": {},
     "output_type": "execute_result"
    }
   ],
   "source": [
    "# training the Logistic Regression Model with Training Data\n",
    "\n",
    "model.fit(X_train,Y_train)\n",
    "\n"
   ]
  },
  {
   "cell_type": "code",
   "execution_count": 50,
   "id": "ed1bb541",
   "metadata": {},
   "outputs": [],
   "source": [
    "yPred = model.predict(X_test)"
   ]
  },
  {
   "cell_type": "code",
   "execution_count": 51,
   "id": "fcd001a3",
   "metadata": {},
   "outputs": [
    {
     "data": {
      "text/plain": [
       "<AxesSubplot:title={'center':'Confusion Matrix'}, xlabel='Predicted label', ylabel='True label'>"
      ]
     },
     "execution_count": 51,
     "metadata": {},
     "output_type": "execute_result"
    },
    {
     "data": {
      "image/png": "[encoded data removed]",
      "text/plain": [
       "<Figure size 432x288 with 2 Axes>"
      ]
     },
     "metadata": {
      "needs_background": "light"
     },
     "output_type": "display_data"
    }
   ],
   "source": [
    "#conf_matrix = confusion_matrix(Y_test, yPred)\n",
    "skplt.metrics.plot_confusion_matrix(Y_test, yPred)"
   ]
  },
  {
   "cell_type": "code",
   "execution_count": 52,
   "id": "360bf2fb",
   "metadata": {},
   "outputs": [
    {
     "name": "stdout",
     "output_type": "stream",
     "text": [
      "              precision    recall  f1-score   support\n",
      "\n",
      "           0       0.93      0.98      0.96        99\n",
      "           1       0.98      0.93      0.95        98\n",
      "\n",
      "    accuracy                           0.95       197\n",
      "   macro avg       0.96      0.95      0.95       197\n",
      "weighted avg       0.96      0.95      0.95       197\n",
      "\n"
     ]
    }
   ],
   "source": [
    "print (classification_report(Y_test, yPred))"
   ]
  },
  {
   "cell_type": "code",
   "execution_count": 53,
   "id": "b142dd20",
   "metadata": {},
   "outputs": [
    {
     "data": {
      "text/plain": [
       "0.9543147208121827"
      ]
     },
     "execution_count": 53,
     "metadata": {},
     "output_type": "execute_result"
    }
   ],
   "source": [
    "accuracy_score(Y_test, yPred)"
   ]
  },
  {
   "cell_type": "code",
   "execution_count": null,
   "id": "bf62efce",
   "metadata": {},
   "outputs": [],
   "source": []
  }
 ],
 "metadata": {
  "kernelspec": {
   "display_name": "Python 3 (ipykernel)",
   "language": "python",
   "name": "python3"
  },
  "language_info": {
   "codemirror_mode": {
    "name": "ipython",
    "version": 3
   },
   "file_extension": ".py",
   "mimetype": "text/x-python",
   "name": "python",
   "nbconvert_exporter": "python",
   "pygments_lexer": "ipython3",
   "version": "3.9.7"
  },
  "vscode": {
   "interpreter": {
    "hash": "369f2c481f4da34e4445cda3fffd2e751bd1c4d706f27375911949ba6bb62e1c"
   }
  }
 },
 "nbformat": 4,
 "nbformat_minor": 5
}
